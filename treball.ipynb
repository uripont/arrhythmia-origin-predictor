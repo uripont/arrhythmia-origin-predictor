{
 "cells": [
  {
   "cell_type": "markdown",
   "metadata": {},
   "source": [
    "we know that to determine if the ECG corresponds to left or right ventricle, we use a scoring model. This model uses both data from the patient and the ecg of the patient. From the data we already have some criteria that awards some scores. The other scores are specifically related to leads. Knowing which V (V1 to V6) is related to each entry, we can get its score. We are not sure as of now if the column \"PVC_transition\" of the data is already the classification of each entry between V1 to V6. "
   ]
  },
  {
   "cell_type": "markdown",
   "metadata": {},
   "source": [
    "If it is, the only work we need to do is for V3, for which we need to detect the R-wave, and verify if it is bigger than a certain threshold or not (to award different scores respectively). For this we have the ECG data (samples) in a .pkl file. We should use \"modelos\" to go from this raw data to a segmented version of the ECG, where we will have the different \"waves\", from which one will correspond to the R wave. Once we know from which sample to which sample the wave goes, we can then find the maximum value to get the \"peak\" of the R-wave, which is the metric we are interested in."
   ]
  },
  {
   "cell_type": "markdown",
   "metadata": {},
   "source": [
    "Once all scores are computed, the weighted model determines whether left or right deterministically based on the scores."
   ]
  },
  {
   "cell_type": "markdown",
   "metadata": {},
   "source": []
  }
 ],
 "metadata": {
  "language_info": {
   "name": "python"
  }
 },
 "nbformat": 4,
 "nbformat_minor": 2
}
