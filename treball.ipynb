{
 "cells": [
  {
   "cell_type": "markdown",
   "metadata": {},
   "source": [
    "We know that to determine if the ECG corresponds to left or right ventricle, we use a scoring model. This model uses both data from the patient and the ECG of the patient. From the data we already have some criteria that awards some scores. The other scores are specifically related to leads (\"V1-V6\"). Knowing which V (V1 to V6) is related to each entry, we can get its score. We are not sure as of now if the column \"PVC_transition\" of the data is already the classification of each entry between V1 to V6. "
   ]
  },
  {
   "cell_type": "markdown",
   "metadata": {},
   "source": [
    "If it is, the only additional work we need to do is for V3, for which we need to detect the R-wave, and verify if it is bigger than a certain threshold or not (to award different scores respectively). For this we have the ECG data (samples) in a .pkl file. We should use \"modelos\" to go from this raw data to a segmented version of the ECG, where we will have the different \"waves\", from which one will correspond to the R wave. Once we know from which sample to which sample the wave goes, we can then find the maximum value to get the \"peak\" of the R-wave, which is the metric we are interested in."
   ]
  },
  {
   "cell_type": "markdown",
   "metadata": {},
   "source": [
    "Once all scores are computed, the weighted model determines whether left or right deterministically based on the scores."
   ]
  },
  {
   "cell_type": "markdown",
   "metadata": {},
   "source": [
    "### External questions:\n",
    "[] Are the V1-V6 values on the \"PVC_transition\" column of the excel the corresponding ECG's R/S OTVA Transition that the scoring model uses? If not, how are we supposed to know which V corresponds to each entry?"
   ]
  },
  {
   "cell_type": "markdown",
   "metadata": {},
   "source": [
    "### Internal questions:\n",
    "[] How do we know which ECG is from which patient (row of the excel file)? What is the way to link them?\n",
    "[] How does \"modelos\" work, to go from raw ECG to segments of the ECG?\n",
    "[] Once we have detected the segment for the R-wave, how do we find the mV value of the wave? Is this the peak (sample with highest value in the interval of the wave)? Or do \"modelos\" already give us this information for the R-wave?"
   ]
  }
 ],
 "metadata": {
  "language_info": {
   "name": "python"
  }
 },
 "nbformat": 4,
 "nbformat_minor": 2
}
