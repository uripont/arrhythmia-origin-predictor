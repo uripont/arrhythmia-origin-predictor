{
 "cells": [
  {
   "cell_type": "markdown",
   "id": "9b1a120b",
   "metadata": {},
   "source": [
    "In this notebook we want to go from raw data, to a filtered, organized and normalized dataset of ECGs, where we have pre-processed each to basically align it according to the R-peak near the 2-second mark."
   ]
  },
  {
   "cell_type": "markdown",
   "id": "81ae023c",
   "metadata": {},
   "source": [
    "First we load the data"
   ]
  },
  {
   "cell_type": "code",
   "execution_count": 1,
   "id": "79e1cde5",
   "metadata": {},
   "outputs": [],
   "source": [
    "import pickle\n",
    "import pandas as pd\n",
    "import numpy as np\n",
    "data = pickle.load(open('../all_points_may_2024.pkl', 'rb'))\n",
    "data = pd.DataFrame(data).T\n"
   ]
  },
  {
   "cell_type": "markdown",
   "id": "4ae2a12c",
   "metadata": {},
   "source": [
    "Inspecting the data, we see that ECGs are stored in the \"Structures\" column. A sample of its structure:"
   ]
  },
  {
   "cell_type": "code",
   "execution_count": 2,
   "id": "f9ec3829",
   "metadata": {},
   "outputs": [
    {
     "name": "stdout",
     "output_type": "stream",
     "text": [
      "P186    {'2-LV': {'P36': {'I': [-0.075 -0.075 -0.072 ....\n",
      "P245    {'2-RV': {'P157': {'I': [ 0.     0.     0.    ...\n",
      "P292    {'2-AO': {'P55': {'I': [-0.063 -0.051 -0.03  ....\n",
      "Name: Structures, dtype: object\n"
     ]
    }
   ],
   "source": [
    "# Print the first 3 rows of column \"Structures\" of the DataFrame\n",
    "print(data['Structures'].head(3))"
   ]
  },
  {
   "cell_type": "markdown",
   "id": "bded67ca",
   "metadata": {},
   "source": [
    "We see each row currently has at least one dictionary in the \"Structures\" column, which is expected since we know that at the very least one ECG contains multiple signals, ideally 12, one for each lead. It may also happen that one row currently contains multiple dictionaries, which would mean that for that same patient we have multiple ECGs. We will need to check for that and handle it accordingly."
   ]
  },
  {
   "cell_type": "code",
   "execution_count": 30,
   "id": "5440ec16",
   "metadata": {},
   "outputs": [
    {
     "name": "stdout",
     "output_type": "stream",
     "text": [
      "Name of the first cell: P186\n",
      "2-LV        {'I': [-0.075, -0.075, -0.07200000000000001, -...\n",
      "1-1-ReAO    {'I': [0.768, 0.747, 0.729, 0.705, 0.669, 0.62...\n",
      "1-AO        {'I': [0.0, 0.003, 0.012, 0.015, 0.01800000000...\n",
      "Name: P36, dtype: object\n"
     ]
    }
   ],
   "source": [
    "# Take a specific row's Structures dictionary and turn it into a dataframe\n",
    "def get_structures_df(structures_series):\n",
    "    # Get the first item from the series\n",
    "    structures_dict = structures_series.iloc[0]\n",
    "    if isinstance(structures_dict, dict):\n",
    "        return pd.DataFrame.from_dict(structures_dict, orient='index')\n",
    "    return None\n",
    "# Example using the first row's Structures\n",
    "first_row_structures_cell = get_structures_df(data['Structures'].head(1))\n",
    "print(\"Name of the first cell:\", data.index[0])\n",
    "if first_row_structures_cell is not None:\n",
    "    # Print all rows and the first column of the DataFrame, in this case just 3 rows\n",
    "    print(first_row_structures_cell.iloc[:, 0])\n"
   ]
  },
  {
   "cell_type": "code",
   "execution_count": 21,
   "id": "04a49eb9",
   "metadata": {},
   "outputs": [
    {
     "name": "stdout",
     "output_type": "stream",
     "text": [
      "Name of the first column: P36\n",
      "Name of the first row: 2-LV\n",
      "{'I': array([-0.075, -0.075, -0.072, ..., -0.039, -0.039, -0.036]), 'II': array([-0.045, -0.048, -0.048, ...,  0.09 ,  0.09 ,  0.087]), 'III': array([0.03 , 0.027, 0.024, ..., 0.132, 0.129, 0.123]), 'AVR': array([-0.051, -0.051, -0.048, ..., -0.087, -0.084, -0.078]), 'AVL': array([ 0.06 ,  0.06 ,  0.06 , ..., -0.024, -0.024, -0.024]), 'AVF': array([-0.006, -0.009, -0.009, ...,  0.111,  0.108,  0.105]), 'V1': array([0.093, 0.093, 0.09 , ..., 0.021, 0.021, 0.018]), 'V2': array([ 0.078,  0.075,  0.075, ..., -0.006, -0.006, -0.006]), 'V3': array([0.078, 0.078, 0.075, ..., 0.129, 0.126, 0.126]), 'V4': array([0.024, 0.024, 0.021, ..., 0.117, 0.117, 0.114]), 'V5': array([-0.024, -0.027, -0.03 , ...,  0.093,  0.093,  0.09 ]), 'V6': array([-0.054, -0.054, -0.057, ...,  0.063,  0.063,  0.063])}\n"
     ]
    }
   ],
   "source": [
    "\n",
    "# Now pick one cell of the first_row_strcutures_cell dataframe, print it\n",
    "if first_row_structures_cell is not None:\n",
    "    # Get first column name and its value\n",
    "    first_col = first_row_structures_cell.columns[0]\n",
    "    print(\"Name of the first column:\", first_col)\n",
    "    ecg = first_row_structures_cell.iloc[0][first_col]\n",
    "    print(\"Name of the first row:\", first_row_structures_cell.index[0])\n",
    "    print(ecg)\n"
   ]
  },
  {
   "cell_type": "markdown",
   "id": "1faad22a",
   "metadata": {},
   "source": [
    "If we inspect this dataframe (note: recommended using extensions for inspecting the data without printing it):"
   ]
  },
  {
   "cell_type": "code",
   "execution_count": 4,
   "id": "d3934bdf",
   "metadata": {},
   "outputs": [
    {
     "data": {
      "text/plain": [
       "{'I': array([-0.075, -0.075, -0.072, ..., -0.039, -0.039, -0.036]),\n",
       " 'II': array([-0.045, -0.048, -0.048, ...,  0.09 ,  0.09 ,  0.087]),\n",
       " 'III': array([0.03 , 0.027, 0.024, ..., 0.132, 0.129, 0.123]),\n",
       " 'AVR': array([-0.051, -0.051, -0.048, ..., -0.087, -0.084, -0.078]),\n",
       " 'AVL': array([ 0.06 ,  0.06 ,  0.06 , ..., -0.024, -0.024, -0.024]),\n",
       " 'AVF': array([-0.006, -0.009, -0.009, ...,  0.111,  0.108,  0.105]),\n",
       " 'V1': array([0.093, 0.093, 0.09 , ..., 0.021, 0.021, 0.018]),\n",
       " 'V2': array([ 0.078,  0.075,  0.075, ..., -0.006, -0.006, -0.006]),\n",
       " 'V3': array([0.078, 0.078, 0.075, ..., 0.129, 0.126, 0.126]),\n",
       " 'V4': array([0.024, 0.024, 0.021, ..., 0.117, 0.117, 0.114]),\n",
       " 'V5': array([-0.024, -0.027, -0.03 , ...,  0.093,  0.093,  0.09 ]),\n",
       " 'V6': array([-0.054, -0.054, -0.057, ...,  0.063,  0.063,  0.063])}"
      ]
     },
     "execution_count": 4,
     "metadata": {},
     "output_type": "execute_result"
    }
   ],
   "source": [
    "ecg"
   ]
  },
  {
   "cell_type": "markdown",
   "id": "032c6e83",
   "metadata": {},
   "source": [
    "We can see that this is an example of a complete ECG, since it contains arrays of samples, and has 12 columns, one per lead.\n",
    "From this we have learned that:\n",
    "Columns are named according to the lead they represent: \"I\", \"II\", \"III\", \"AVR\", \"AVL\", \"AVF\", \"V1\", \"V2\", \"V3\", \"V4\", \"V5\", and \"V6\". \n",
    "Rows are the individual values of each sample of the signal, in millivolts (mV).\n",
    "The shape of the data is (2500, 12), which means that there are 2500 samples for each lead.\n",
    "We know that we have 2.5s of ECG measured, so the sampling frequency is 1000Hz."
   ]
  },
  {
   "cell_type": "markdown",
   "id": "5aac6e0e",
   "metadata": {},
   "source": [
    "Before getting to this ECG, and starting from a \"cell\" in the \"Structures\" column. We are just looking now at a specific column inside the dictionary on this cell. This column is labelled \"P36\", as we can see that the different columns (keys) are labelled with P__, where __ is a number. \n",
    "\n",
    "On this specific P36 column, we can see that it has 3 rows. Let's extract what's on each and understand what they are."
   ]
  },
  {
   "cell_type": "code",
   "execution_count": null,
   "id": "46fe21b1",
   "metadata": {},
   "outputs": [
    {
     "name": "stdout",
     "output_type": "stream",
     "text": [
      "Name of the second row: 1-1-ReAO\n",
      "{'I': array([0.768, 0.747, 0.729, ..., 0.054, 0.051, 0.051]), 'II': array([0.978, 0.972, 0.969, ..., 0.12 , 0.117, 0.117]), 'III': array([0.213, 0.225, 0.237, ..., 0.069, 0.066, 0.066]), 'AVR': array([ 0.276,  0.261,  0.246, ..., -0.006, -0.006, -0.006]), 'AVL': array([-0.87 , -0.858, -0.846, ..., -0.087, -0.087, -0.087]), 'AVF': array([0.6  , 0.6  , 0.603, ..., 0.096, 0.093, 0.093]), 'V1': array([-0.258, -0.243, -0.225, ..., -0.033, -0.033, -0.033]), 'V2': array([1.518, 1.476, 1.419, ..., 0.132, 0.132, 0.129]), 'V3': array([1.167, 1.167, 1.167, ..., 0.198, 0.195, 0.192]), 'V4': array([1.74 , 1.728, 1.71 , ..., 0.267, 0.264, 0.264]), 'V5': array([1.728, 1.71 , 1.689, ..., 0.234, 0.234, 0.231]), 'V6': array([1.614, 1.596, 1.569, ..., 0.189, 0.189, 0.186])}\n",
      "Name of the third row: 1-AO\n",
      "{'I': array([ 0.   ,  0.003,  0.012, ..., -0.036, -0.036, -0.033]), 'II': array([0.048, 0.048, 0.045, ..., 0.105, 0.102, 0.102]), 'III': array([0.048, 0.042, 0.033, ..., 0.144, 0.141, 0.138]), 'AVR': array([-0.024, -0.018, -0.009, ..., -0.09 , -0.087, -0.084]), 'AVL': array([-0.024, -0.027, -0.03 , ..., -0.033, -0.033, -0.033]), 'AVF': array([0.048, 0.045, 0.039, ..., 0.123, 0.123, 0.12 ]), 'V1': array([-0.009, -0.015, -0.018, ...,  0.018,  0.018,  0.015]), 'V2': array([0.009, 0.006, 0.006, ..., 0.015, 0.012, 0.009]), 'V3': array([0.006, 0.006, 0.003, ..., 0.156, 0.153, 0.15 ]), 'V4': array([-0.012, -0.012, -0.012, ...,  0.141,  0.138,  0.135]), 'V5': array([-0.024, -0.021, -0.021, ...,  0.111,  0.108,  0.102]), 'V6': array([-0.027, -0.024, -0.024, ...,  0.081,  0.075,  0.075])}\n"
     ]
    }
   ],
   "source": [
    "# Now pick one cell of the dataframe, print it\n",
    "if first_row_structures_cell is not None:\n",
    "    # Get second column name and its value\n",
    "    ecg2 = first_row_structures_cell.iloc[1][first_col]\n",
    "    print(\"Name of the second row:\", first_row_structures_cell.index[1])\n",
    "    print(ecg2)\n",
    "    \n",
    "    ecg3 = first_row_structures_cell.iloc[2][first_col]\n",
    "    print(\"Name of the third row:\", first_row_structures_cell.index[2])\n",
    "    print(ecg3)"
   ]
  },
  {
   "cell_type": "markdown",
   "id": "b7aec1e7",
   "metadata": {},
   "source": [
    "We see that for P36, we have a complete ECG per each of the 3 rows we detected inside this `first_row_structures_cell`, which are 2-LV, 1-1-ReAO and 1-AO.\n",
    "If we pick a different column (i.e. not P36), as we can see when exploring the `first_row_structures_cell`, not all columns have exactly as many rows. Some have 1, some have 2, some have 3 (so when seeing the dataframe as a table, we see that the corresponding values for cells might be empty):"
   ]
  },
  {
   "cell_type": "code",
   "execution_count": null,
   "id": "39db153d",
   "metadata": {},
   "outputs": [
    {
     "name": "stdout",
     "output_type": "stream",
     "text": [
      "------\n",
      "Name of the column: P122\n",
      "Name of the row: 2-LV - {'I': array([-0.042, -0.045, -0.048, ..., -0.078, -0.072, -0.072]), 'II': array([-0.015, -0.015, -0.012, ...,  0.117,  0.12 ,  0.12 ]), 'III': array([0.027, 0.03 , 0.033, ..., 0.195, 0.195, 0.198]), 'AVR': array([-0.033, -0.039, -0.042, ..., -0.138, -0.132, -0.135]), 'AVL': array([ 0.027,  0.03 ,  0.03 , ..., -0.018, -0.021, -0.024]), 'AVF': array([0.006, 0.006, 0.009, ..., 0.156, 0.159, 0.159]), 'V1': array([0.054, 0.054, 0.054, ..., 0.078, 0.078, 0.075]), 'V2': array([ 0.03 ,  0.033,  0.033, ..., -0.024, -0.027, -0.027]), 'V3': array([0.027, 0.027, 0.03 , ..., 0.147, 0.147, 0.15 ]), 'V4': array([-0.057, -0.054, -0.051, ...,  0.105,  0.108,  0.108]), 'V5': array([-0.096, -0.093, -0.09 , ...,  0.069,  0.069,  0.069]), 'V6': array([-0.105, -0.105, -0.102, ...,  0.03 ,  0.03 ,  0.03 ])}\n",
      "Name of the row: 1-1-ReAO - nan\n",
      "Name of the row: 1-AO - nan\n",
      "------\n",
      "Name of the column: P85\n",
      "Name of the row: 2-LV - {'I': array([-0.048, -0.045, -0.042, ..., -0.015, -0.012, -0.006]), 'II': array([-0.021, -0.021, -0.021, ...,  0.111,  0.117,  0.123]), 'III': array([0.021, 0.021, 0.021, ..., 0.132, 0.132, 0.132]), 'AVR': array([-0.033, -0.033, -0.033, ..., -0.075, -0.072, -0.069]), 'AVL': array([ 0.036,  0.033,  0.03 , ..., -0.048, -0.051, -0.057]), 'AVF': array([0.   , 0.   , 0.   , ..., 0.12 , 0.123, 0.126]), 'V1': array([0.042, 0.042, 0.042, ..., 0.018, 0.015, 0.012]), 'V2': array([0.015, 0.015, 0.015, ..., 0.021, 0.021, 0.015]), 'V3': array([-0.006, -0.006, -0.006, ...,  0.15 ,  0.156,  0.159]), 'V4': array([-0.087, -0.087, -0.087, ...,  0.135,  0.141,  0.144]), 'V5': array([-0.144, -0.144, -0.144, ...,  0.111,  0.114,  0.114]), 'V6': array([-0.15 , -0.15 , -0.15 , ...,  0.066,  0.066,  0.066])}\n",
      "Name of the row: 1-1-ReAO - nan\n",
      "Name of the row: 1-AO - nan\n",
      "------\n",
      "Name of the column: P103\n",
      "Name of the row: 2-LV - {'I': array([-0.045, -0.048, -0.048, ..., -0.024, -0.03 , -0.033]), 'II': array([-0.042, -0.045, -0.045, ...,  0.105,  0.102,  0.099]), 'III': array([0.003, 0.003, 0.   , ..., 0.132, 0.135, 0.135]), 'AVR': array([-0.024, -0.027, -0.024, ..., -0.078, -0.081, -0.084]), 'AVL': array([ 0.042,  0.045,  0.048, ..., -0.039, -0.036, -0.033]), 'AVF': array([-0.018, -0.018, -0.021, ...,  0.117,  0.12 ,  0.117]), 'V1': array([0.063, 0.063, 0.06 , ..., 0.021, 0.024, 0.027]), 'V2': array([0.078, 0.078, 0.078, ..., 0.033, 0.036, 0.036]), 'V3': array([0.042, 0.042, 0.042, ..., 0.156, 0.159, 0.159]), 'V4': array([0.003, 0.003, 0.003, ..., 0.144, 0.144, 0.144]), 'V5': array([-0.045, -0.045, -0.045, ...,  0.12 ,  0.12 ,  0.12 ]), 'V6': array([-0.072, -0.072, -0.069, ...,  0.093,  0.096,  0.096])}\n",
      "Name of the row: 1-1-ReAO - nan\n",
      "Name of the row: 1-AO - nan\n",
      "------\n",
      "Name of the column: P86\n",
      "Name of the row: 2-LV - {'I': array([ 0.003,  0.009,  0.015, ..., -0.018, -0.012, -0.009]), 'II': array([0.009, 0.006, 0.009, ..., 0.117, 0.111, 0.108]), 'III': array([ 0.006,  0.   , -0.003, ...,  0.138,  0.129,  0.123]), 'AVR': array([ 0.   ,  0.003,  0.009, ..., -0.078, -0.072, -0.066]), 'AVL': array([-0.006, -0.006, -0.012, ..., -0.048, -0.048, -0.048]), 'AVF': array([0.006, 0.003, 0.   , ..., 0.126, 0.12 , 0.117]), 'V1': array([-0.036, -0.036, -0.036, ...,  0.021,  0.021,  0.018]), 'V2': array([-0.006, -0.009, -0.006, ...,  0.045,  0.042,  0.039]), 'V3': array([0.033, 0.03 , 0.03 , ..., 0.186, 0.18 , 0.177]), 'V4': array([0.066, 0.063, 0.063, ..., 0.156, 0.147, 0.144]), 'V5': array([0.075, 0.072, 0.072, ..., 0.117, 0.111, 0.108]), 'V6': array([0.054, 0.054, 0.051, ..., 0.09 , 0.084, 0.084])}\n",
      "Name of the row: 1-1-ReAO - nan\n",
      "Name of the row: 1-AO - nan\n",
      "------\n",
      "Name of the column: P42\n",
      "Name of the row: 2-LV - {'I': array([-0.045, -0.042, -0.036, ..., -0.066, -0.069, -0.069]), 'II': array([-0.069, -0.069, -0.066, ...,  0.054,  0.054,  0.054]), 'III': array([-0.024, -0.027, -0.033, ...,  0.123,  0.126,  0.126]), 'AVR': array([-0.009, -0.006, -0.003, ..., -0.096, -0.096, -0.096]), 'AVL': array([0.057, 0.054, 0.051, ..., 0.006, 0.006, 0.006]), 'AVF': array([-0.045, -0.048, -0.051, ...,  0.087,  0.09 ,  0.09 ]), 'V1': array([0.048, 0.048, 0.045, ..., 0.042, 0.045, 0.045]), 'V2': array([-0.006, -0.006, -0.009, ..., -0.024, -0.021, -0.021]), 'V3': array([0.057, 0.054, 0.051, ..., 0.078, 0.081, 0.081]), 'V4': array([0.024, 0.024, 0.021, ..., 0.054, 0.057, 0.054]), 'V5': array([0.012, 0.009, 0.009, ..., 0.03 , 0.033, 0.033]), 'V6': array([0.015, 0.012, 0.012, ..., 0.009, 0.009, 0.009])}\n",
      "Name of the row: 1-1-ReAO - {'I': array([-0.006, -0.006, -0.006, ...,  0.015,  0.018,  0.018]), 'II': array([-0.006, -0.009, -0.012, ...,  0.096,  0.093,  0.093]), 'III': array([ 0.   , -0.003, -0.003, ...,  0.078,  0.075,  0.075]), 'AVR': array([-0.003,  0.   ,  0.   , ..., -0.03 , -0.027, -0.027]), 'AVL': array([ 0.006,  0.009,  0.009, ..., -0.054, -0.054, -0.054]), 'AVF': array([-0.003, -0.006, -0.006, ...,  0.087,  0.084,  0.084]), 'V1': array([-0.015, -0.015, -0.015, ..., -0.036, -0.036, -0.036]), 'V2': array([-0.042, -0.045, -0.045, ..., -0.009, -0.012, -0.009]), 'V3': array([-0.015, -0.015, -0.015, ..., -0.012, -0.015, -0.018]), 'V4': array([-0.009, -0.009, -0.009, ...,  0.015,  0.012,  0.009]), 'V5': array([-0.003, -0.003, -0.003, ...,  0.03 ,  0.03 ,  0.03 ]), 'V6': array([0.   , 0.   , 0.   , ..., 0.036, 0.036, 0.036])}\n",
      "Name of the row: 1-AO - {'I': array([-0.051, -0.057, -0.063, ..., -0.033, -0.036, -0.036]), 'II': array([-0.006, -0.006, -0.006, ...,  0.09 ,  0.087,  0.084]), 'III': array([0.045, 0.048, 0.054, ..., 0.126, 0.123, 0.123]), 'AVR': array([-0.048, -0.051, -0.057, ..., -0.081, -0.081, -0.081]), 'AVL': array([ 0.03 ,  0.03 ,  0.033, ..., -0.027, -0.024, -0.024]), 'AVF': array([0.018, 0.021, 0.024, ..., 0.108, 0.105, 0.102]), 'V1': array([0.06 , 0.06 , 0.063, ..., 0.012, 0.018, 0.018]), 'V2': array([ 0.036,  0.036,  0.039, ..., -0.009, -0.006, -0.006]), 'V3': array([0.129, 0.129, 0.132, ..., 0.066, 0.063, 0.06 ]), 'V4': array([0.006, 0.006, 0.009, ..., 0.057, 0.054, 0.051]), 'V5': array([-0.093, -0.093, -0.09 , ...,  0.048,  0.045,  0.045]), 'V6': array([-0.126, -0.126, -0.123, ...,  0.042,  0.039,  0.036])}\n"
     ]
    }
   ],
   "source": [
    "# Pick the next 5 columns, for each iterate over the 3 rows, print the ECG or \"it's empty\"\n",
    "# Get the next 5 columns\n",
    "for i in range(1, 6):\n",
    "    col_name = first_row_structures_cell.columns[i]\n",
    "    print(\"------\")\n",
    "    print(\"Name of the column:\", col_name)\n",
    "    for j in range(3):\n",
    "        iterating_ecg = first_row_structures_cell.iloc[j][col_name]\n",
    "        print(\"Name of the row:\", first_row_structures_cell.index[j], \"-\", iterating_ecg)"
   ]
  },
  {
   "cell_type": "markdown",
   "id": "8718e5b5",
   "metadata": {},
   "source": [
    "It's strange that, given that all of this is based on `first_row_structures_cell`, which corresponds as seen before to \"P186\", we have different \"P__\" columns inside the structures column of P186. \n",
    "\n",
    "We are now going to see if the missing ECG's for the different rows are actually located in some other cell from the original dataframe. \n",
    "\n",
    "We first check for arbitrary P__ columns, of it, and do a similar display as the previous step. We'll later merge all the findings programatically in a single complete dataframe."
   ]
  },
  {
   "cell_type": "code",
   "execution_count": null,
   "id": "7dc6c9e0",
   "metadata": {},
   "outputs": [],
   "source": [
    "# Function to take a cell name (like \"P122\", \"P186\",...) and print for the first 5 columns, \n",
    "# which will be P__, the different found ECG's in the different rows that this cell has (in\n",
    "# the form of \"2-LV\", \"1-1-ReAO\",...)\n",
    "# TODO"
   ]
  },
  {
   "cell_type": "markdown",
   "id": "c76669a6",
   "metadata": {},
   "source": [
    "From here we can start to see a pattern and understand what the P__ columns are and what are the rows."
   ]
  },
  {
   "cell_type": "markdown",
   "id": "f1ecc9f0",
   "metadata": {},
   "source": [
    "Now we can try to create a unified dataframe where columns are P__ (extracted from inside each P__ cell) and rows are the different rows found across all cells. Maybe this unified dataframe will contain the missing ECGs that we are looking for when inspecting individual cells."
   ]
  },
  {
   "cell_type": "code",
   "execution_count": null,
   "id": "42ecfc40",
   "metadata": {},
   "outputs": [],
   "source": [
    "# Loop over all cells in the original dataframe, for each iterate over all columns and rows, \n",
    "# and store the ECG found (if any) into this unified dataframe (column and row found inside this cell)\n",
    "# TODO"
   ]
  }
 ],
 "metadata": {
  "kernelspec": {
   "display_name": "Python 3",
   "language": "python",
   "name": "python3"
  },
  "language_info": {
   "codemirror_mode": {
    "name": "ipython",
    "version": 3
   },
   "file_extension": ".py",
   "mimetype": "text/x-python",
   "name": "python",
   "nbconvert_exporter": "python",
   "pygments_lexer": "ipython3",
   "version": "3.12.0"
  }
 },
 "nbformat": 4,
 "nbformat_minor": 5
}
