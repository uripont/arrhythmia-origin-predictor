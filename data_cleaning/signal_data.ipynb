{
 "cells": [
  {
   "cell_type": "markdown",
   "id": "9b1a120b",
   "metadata": {},
   "source": [
    "In this notebook we want to go from raw data, to a filtered, organized and normalized dataset of ECGs, where we have pre-processed each to basically align it according to the R-peak near the 2-second mark."
   ]
  },
  {
   "cell_type": "markdown",
   "id": "81ae023c",
   "metadata": {},
   "source": [
    "First we load the data"
   ]
  },
  {
   "cell_type": "code",
   "execution_count": 1,
   "id": "79e1cde5",
   "metadata": {},
   "outputs": [],
   "source": [
    "import pickle\n",
    "import pandas as pd\n",
    "import numpy as np\n",
    "data = pickle.load(open('../all_points_may_2024.pkl', 'rb'))\n",
    "data = pd.DataFrame(data).T\n"
   ]
  },
  {
   "cell_type": "markdown",
   "id": "4ae2a12c",
   "metadata": {},
   "source": [
    "Inspecting the data, we see that ECGs are stored in the \"Structures\" column. A sample of its structure:"
   ]
  },
  {
   "cell_type": "code",
   "execution_count": 2,
   "id": "f9ec3829",
   "metadata": {},
   "outputs": [
    {
     "name": "stdout",
     "output_type": "stream",
     "text": [
      "P186    {'2-LV': {'P36': {'I': [-0.075 -0.075 -0.072 ....\n",
      "P245    {'2-RV': {'P157': {'I': [ 0.     0.     0.    ...\n",
      "P292    {'2-AO': {'P55': {'I': [-0.063 -0.051 -0.03  ....\n",
      "Name: Structures, dtype: object\n"
     ]
    }
   ],
   "source": [
    "# Print the first 3 rows of column \"Structures\" of the DataFrame\n",
    "print(data['Structures'].head(3))"
   ]
  },
  {
   "cell_type": "markdown",
   "id": "bded67ca",
   "metadata": {},
   "source": [
    "We see each row currently has at least one dictionary in the \"Structures\" column, which is expected since we know that at the very least one ECG contains multiple signals, ideally 12, one for each lead. It may also happen that one row currently contains multiple dictionaries, which would mean that for that same patient we have multiple ECGs. We will need to check for that and handle it accordingly."
   ]
  },
  {
   "cell_type": "code",
   "execution_count": null,
   "id": "5440ec16",
   "metadata": {},
   "outputs": [
    {
     "name": "stdout",
     "output_type": "stream",
     "text": [
      "2-LV        {'I': [-0.075, -0.075, -0.07200000000000001, -...\n",
      "1-1-ReAO    {'I': [0.768, 0.747, 0.729, 0.705, 0.669, 0.62...\n",
      "1-AO        {'I': [0.0, 0.003, 0.012, 0.015, 0.01800000000...\n",
      "Name: P36, dtype: object\n"
     ]
    }
   ],
   "source": [
    "# Take a specific row's Structures dictionary and turn it into a dataframe\n",
    "def get_structures_df(structures_series):\n",
    "    # Get the first item from the series\n",
    "    structures_dict = structures_series.iloc[0]\n",
    "    if isinstance(structures_dict, dict):\n",
    "        return pd.DataFrame.from_dict(structures_dict, orient='index')\n",
    "    return None\n",
    "\n",
    "# Example using the first row's Structures\n",
    "first_row_structures_cell = get_structures_df(data['Structures'].head(1))\n",
    "if first_row_structures_cell is not None:\n",
    "    # Print all rows and the first column of the DataFrame, in this case just 3 rows\n",
    "    print(first_row_structures_cell.iloc[:, 0])\n"
   ]
  },
  {
   "cell_type": "code",
   "execution_count": 21,
   "id": "04a49eb9",
   "metadata": {},
   "outputs": [
    {
     "name": "stdout",
     "output_type": "stream",
     "text": [
      "Name of the first column: P36\n",
      "Name of the first row: 2-LV\n",
      "{'I': array([-0.075, -0.075, -0.072, ..., -0.039, -0.039, -0.036]), 'II': array([-0.045, -0.048, -0.048, ...,  0.09 ,  0.09 ,  0.087]), 'III': array([0.03 , 0.027, 0.024, ..., 0.132, 0.129, 0.123]), 'AVR': array([-0.051, -0.051, -0.048, ..., -0.087, -0.084, -0.078]), 'AVL': array([ 0.06 ,  0.06 ,  0.06 , ..., -0.024, -0.024, -0.024]), 'AVF': array([-0.006, -0.009, -0.009, ...,  0.111,  0.108,  0.105]), 'V1': array([0.093, 0.093, 0.09 , ..., 0.021, 0.021, 0.018]), 'V2': array([ 0.078,  0.075,  0.075, ..., -0.006, -0.006, -0.006]), 'V3': array([0.078, 0.078, 0.075, ..., 0.129, 0.126, 0.126]), 'V4': array([0.024, 0.024, 0.021, ..., 0.117, 0.117, 0.114]), 'V5': array([-0.024, -0.027, -0.03 , ...,  0.093,  0.093,  0.09 ]), 'V6': array([-0.054, -0.054, -0.057, ...,  0.063,  0.063,  0.063])}\n"
     ]
    }
   ],
   "source": [
    "\n",
    "# Now pick one cell of the first_row_strcutures_cell dataframe, print it\n",
    "if first_row_structures_cell is not None:\n",
    "    # Get first column name and its value\n",
    "    first_col = first_row_structures_cell.columns[0]\n",
    "    print(\"Name of the first column:\", first_col)\n",
    "    ecg = first_row_structures_cell.iloc[0][first_col]\n",
    "    print(\"Name of the first row:\", first_row_structures_cell.index[0])\n",
    "    print(ecg)\n"
   ]
  },
  {
   "cell_type": "markdown",
   "id": "1faad22a",
   "metadata": {},
   "source": [
    "If we inspect this dataframe (note: recommended using extensions for inspecting the data without printing it):"
   ]
  },
  {
   "cell_type": "code",
   "execution_count": 4,
   "id": "d3934bdf",
   "metadata": {},
   "outputs": [
    {
     "data": {
      "text/plain": [
       "{'I': array([-0.075, -0.075, -0.072, ..., -0.039, -0.039, -0.036]),\n",
       " 'II': array([-0.045, -0.048, -0.048, ...,  0.09 ,  0.09 ,  0.087]),\n",
       " 'III': array([0.03 , 0.027, 0.024, ..., 0.132, 0.129, 0.123]),\n",
       " 'AVR': array([-0.051, -0.051, -0.048, ..., -0.087, -0.084, -0.078]),\n",
       " 'AVL': array([ 0.06 ,  0.06 ,  0.06 , ..., -0.024, -0.024, -0.024]),\n",
       " 'AVF': array([-0.006, -0.009, -0.009, ...,  0.111,  0.108,  0.105]),\n",
       " 'V1': array([0.093, 0.093, 0.09 , ..., 0.021, 0.021, 0.018]),\n",
       " 'V2': array([ 0.078,  0.075,  0.075, ..., -0.006, -0.006, -0.006]),\n",
       " 'V3': array([0.078, 0.078, 0.075, ..., 0.129, 0.126, 0.126]),\n",
       " 'V4': array([0.024, 0.024, 0.021, ..., 0.117, 0.117, 0.114]),\n",
       " 'V5': array([-0.024, -0.027, -0.03 , ...,  0.093,  0.093,  0.09 ]),\n",
       " 'V6': array([-0.054, -0.054, -0.057, ...,  0.063,  0.063,  0.063])}"
      ]
     },
     "execution_count": 4,
     "metadata": {},
     "output_type": "execute_result"
    }
   ],
   "source": [
    "ecg"
   ]
  },
  {
   "cell_type": "markdown",
   "id": "032c6e83",
   "metadata": {},
   "source": [
    "We can see that this is an example of a complete ECG, since it contains arrays of samples, and has 12 columns, one per lead.\n",
    "From this we have learned that:\n",
    "Columns are named according to the lead they represent: \"I\", \"II\", \"III\", \"AVR\", \"AVL\", \"AVF\", \"V1\", \"V2\", \"V3\", \"V4\", \"V5\", and \"V6\". \n",
    "Rows are the individual values of each sample of the signal, in millivolts (mV).\n",
    "The shape of the data is (2500, 12), which means that there are 2500 samples for each lead.\n",
    "We know that we have 2.5s of ECG measured, so the sampling frequency is 1000Hz."
   ]
  },
  {
   "cell_type": "markdown",
   "id": "5aac6e0e",
   "metadata": {},
   "source": [
    "Before getting to this ECG, and starting from a \"cell\" in the \"Structures\" column. We are just looking now at a specific column inside the dictionary on this cell. This column is labelled \"P36\", as we can see that the different columns (keys) are labelled with P__, where __ is a number. \n",
    "\n",
    "On this specific P36 column, we can see that it has 3 rows. Let's extract what's on each and understand what they are."
   ]
  },
  {
   "cell_type": "code",
   "execution_count": null,
   "id": "46fe21b1",
   "metadata": {},
   "outputs": [
    {
     "name": "stdout",
     "output_type": "stream",
     "text": [
      "Name of the second row: 1-1-ReAO\n",
      "{'I': array([0.768, 0.747, 0.729, ..., 0.054, 0.051, 0.051]), 'II': array([0.978, 0.972, 0.969, ..., 0.12 , 0.117, 0.117]), 'III': array([0.213, 0.225, 0.237, ..., 0.069, 0.066, 0.066]), 'AVR': array([ 0.276,  0.261,  0.246, ..., -0.006, -0.006, -0.006]), 'AVL': array([-0.87 , -0.858, -0.846, ..., -0.087, -0.087, -0.087]), 'AVF': array([0.6  , 0.6  , 0.603, ..., 0.096, 0.093, 0.093]), 'V1': array([-0.258, -0.243, -0.225, ..., -0.033, -0.033, -0.033]), 'V2': array([1.518, 1.476, 1.419, ..., 0.132, 0.132, 0.129]), 'V3': array([1.167, 1.167, 1.167, ..., 0.198, 0.195, 0.192]), 'V4': array([1.74 , 1.728, 1.71 , ..., 0.267, 0.264, 0.264]), 'V5': array([1.728, 1.71 , 1.689, ..., 0.234, 0.234, 0.231]), 'V6': array([1.614, 1.596, 1.569, ..., 0.189, 0.189, 0.186])}\n",
      "Name of the third row: 1-AO\n",
      "{'I': array([ 0.   ,  0.003,  0.012, ..., -0.036, -0.036, -0.033]), 'II': array([0.048, 0.048, 0.045, ..., 0.105, 0.102, 0.102]), 'III': array([0.048, 0.042, 0.033, ..., 0.144, 0.141, 0.138]), 'AVR': array([-0.024, -0.018, -0.009, ..., -0.09 , -0.087, -0.084]), 'AVL': array([-0.024, -0.027, -0.03 , ..., -0.033, -0.033, -0.033]), 'AVF': array([0.048, 0.045, 0.039, ..., 0.123, 0.123, 0.12 ]), 'V1': array([-0.009, -0.015, -0.018, ...,  0.018,  0.018,  0.015]), 'V2': array([0.009, 0.006, 0.006, ..., 0.015, 0.012, 0.009]), 'V3': array([0.006, 0.006, 0.003, ..., 0.156, 0.153, 0.15 ]), 'V4': array([-0.012, -0.012, -0.012, ...,  0.141,  0.138,  0.135]), 'V5': array([-0.024, -0.021, -0.021, ...,  0.111,  0.108,  0.102]), 'V6': array([-0.027, -0.024, -0.024, ...,  0.081,  0.075,  0.075])}\n"
     ]
    }
   ],
   "source": [
    "# Now pick one cell of the dataframe, print it\n",
    "if first_row_structures_cell is not None:\n",
    "    # Get second column name and its value\n",
    "    ecg2 = first_row_structures_cell.iloc[1][first_col]\n",
    "    print(\"Name of the second row:\", first_row_structures_cell.index[1])\n",
    "    print(ecg2)\n",
    "    \n",
    "    ecg3 = first_row_structures_cell.iloc[2][first_col]\n",
    "    print(\"Name of the third row:\", first_row_structures_cell.index[2])\n",
    "    print(ecg3)"
   ]
  }
 ],
 "metadata": {
  "kernelspec": {
   "display_name": "Python 3",
   "language": "python",
   "name": "python3"
  },
  "language_info": {
   "codemirror_mode": {
    "name": "ipython",
    "version": 3
   },
   "file_extension": ".py",
   "mimetype": "text/x-python",
   "name": "python",
   "nbconvert_exporter": "python",
   "pygments_lexer": "ipython3",
   "version": "3.12.0"
  }
 },
 "nbformat": 4,
 "nbformat_minor": 5
}
