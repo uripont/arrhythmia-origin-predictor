{
 "cells": [
  {
   "cell_type": "markdown",
   "id": "9b1a120b",
   "metadata": {},
   "source": [
    "In this notebook we want to go from raw data, to a filtered, organized and normalized dataset of ECGs, where we have pre-processed each to basically align it according to the R-peak near the 2-second mark."
   ]
  },
  {
   "cell_type": "markdown",
   "id": "81ae023c",
   "metadata": {},
   "source": [
    "First we load the data"
   ]
  },
  {
   "cell_type": "code",
   "execution_count": 1,
   "id": "79e1cde5",
   "metadata": {},
   "outputs": [],
   "source": [
    "import pickle\n",
    "import pandas as pd\n",
    "import numpy as np\n",
    "data = pickle.load(open('../all_points_may_2024.pkl', 'rb'))\n",
    "data = pd.DataFrame(data).T\n"
   ]
  },
  {
   "cell_type": "markdown",
   "id": "4ae2a12c",
   "metadata": {},
   "source": [
    "Inspecting the data, we see that ECGs are stored in the \"Structures\" column. A sample of its structure:"
   ]
  },
  {
   "cell_type": "code",
   "execution_count": 3,
   "id": "f9ec3829",
   "metadata": {},
   "outputs": [
    {
     "name": "stdout",
     "output_type": "stream",
     "text": [
      "P186    {'2-LV': {'P36': {'I': [-0.075 -0.075 -0.072 ....\n",
      "P245    {'2-RV': {'P157': {'I': [ 0.     0.     0.    ...\n",
      "P292    {'2-AO': {'P55': {'I': [-0.063 -0.051 -0.03  ....\n",
      "Name: Structures, dtype: object\n"
     ]
    }
   ],
   "source": [
    "# Print the first 3 rows of column \"Structures\" of the DataFrame\n",
    "print(data['Structures'].head(3))"
   ]
  },
  {
   "cell_type": "markdown",
   "id": "bded67ca",
   "metadata": {},
   "source": [
    "We see each row currently has at least one dictionary in the \"Structures\" column, which is expected since we know that at the very least one ECG contains multiple signals, ideally 12, one for each lead. It may also happen that one row currently contains multiple dictionaries, which would mean that for that same patient we have multiple ECGs. We will need to check for that and handle it accordingly."
   ]
  },
  {
   "cell_type": "code",
   "execution_count": 16,
   "id": "5440ec16",
   "metadata": {},
   "outputs": [
    {
     "name": "stdout",
     "output_type": "stream",
     "text": [
      "{'I': array([-0.075, -0.075, -0.072, ..., -0.039, -0.039, -0.036]), 'II': array([-0.045, -0.048, -0.048, ...,  0.09 ,  0.09 ,  0.087]), 'III': array([0.03 , 0.027, 0.024, ..., 0.132, 0.129, 0.123]), 'AVR': array([-0.051, -0.051, -0.048, ..., -0.087, -0.084, -0.078]), 'AVL': array([ 0.06 ,  0.06 ,  0.06 , ..., -0.024, -0.024, -0.024]), 'AVF': array([-0.006, -0.009, -0.009, ...,  0.111,  0.108,  0.105]), 'V1': array([0.093, 0.093, 0.09 , ..., 0.021, 0.021, 0.018]), 'V2': array([ 0.078,  0.075,  0.075, ..., -0.006, -0.006, -0.006]), 'V3': array([0.078, 0.078, 0.075, ..., 0.129, 0.126, 0.126]), 'V4': array([0.024, 0.024, 0.021, ..., 0.117, 0.117, 0.114]), 'V5': array([-0.024, -0.027, -0.03 , ...,  0.093,  0.093,  0.09 ]), 'V6': array([-0.054, -0.054, -0.057, ...,  0.063,  0.063,  0.063])}\n"
     ]
    }
   ],
   "source": [
    "# Take a specific row's Structures dictionary and turn it into a dataframe\n",
    "def get_structures_df(structures_series):\n",
    "    # Get the first item from the series\n",
    "    structures_dict = structures_series.iloc[0]\n",
    "    if isinstance(structures_dict, dict):\n",
    "        return pd.DataFrame.from_dict(structures_dict, orient='index')\n",
    "    return None\n",
    "\n",
    "# Example using the first row's Structures\n",
    "first_row_structures = get_structures_df(data['Structures'].head(1))\n",
    "\n",
    "# Now pick one cell of the dataframe, print it\n",
    "if first_row_structures is not None:\n",
    "    # Get first column name and its value\n",
    "    first_col = first_row_structures.columns[0]\n",
    "    ecg = first_row_structures.iloc[0][first_col]\n",
    "    print(ecg)"
   ]
  },
  {
   "cell_type": "markdown",
   "id": "1faad22a",
   "metadata": {},
   "source": [
    "If we inspect this dataframe (note: recommended using extensions for inspecting the data without printing it):"
   ]
  },
  {
   "cell_type": "code",
   "execution_count": 17,
   "id": "d3934bdf",
   "metadata": {},
   "outputs": [
    {
     "data": {
      "text/plain": [
       "{'I': array([-0.075, -0.075, -0.072, ..., -0.039, -0.039, -0.036]),\n",
       " 'II': array([-0.045, -0.048, -0.048, ...,  0.09 ,  0.09 ,  0.087]),\n",
       " 'III': array([0.03 , 0.027, 0.024, ..., 0.132, 0.129, 0.123]),\n",
       " 'AVR': array([-0.051, -0.051, -0.048, ..., -0.087, -0.084, -0.078]),\n",
       " 'AVL': array([ 0.06 ,  0.06 ,  0.06 , ..., -0.024, -0.024, -0.024]),\n",
       " 'AVF': array([-0.006, -0.009, -0.009, ...,  0.111,  0.108,  0.105]),\n",
       " 'V1': array([0.093, 0.093, 0.09 , ..., 0.021, 0.021, 0.018]),\n",
       " 'V2': array([ 0.078,  0.075,  0.075, ..., -0.006, -0.006, -0.006]),\n",
       " 'V3': array([0.078, 0.078, 0.075, ..., 0.129, 0.126, 0.126]),\n",
       " 'V4': array([0.024, 0.024, 0.021, ..., 0.117, 0.117, 0.114]),\n",
       " 'V5': array([-0.024, -0.027, -0.03 , ...,  0.093,  0.093,  0.09 ]),\n",
       " 'V6': array([-0.054, -0.054, -0.057, ...,  0.063,  0.063,  0.063])}"
      ]
     },
     "execution_count": 17,
     "metadata": {},
     "output_type": "execute_result"
    }
   ],
   "source": [
    "ecg"
   ]
  },
  {
   "cell_type": "markdown",
   "id": "032c6e83",
   "metadata": {},
   "source": [
    "We can see that this is an ECG, since it contains arrays of samples, and has 12 columns, one per lead.\n",
    "Columns are named according to the lead they represent: \"I\", \"II\", \"III\", \"AVR\", \"AVL\", \"AVF\", \"V1\", \"V2\", \"V3\", \"V4\", \"V5\", and \"V6\". \n",
    "Rows are the individual values of each sample of the signal, in millivolts (mV).\n",
    "The shape of the data is (2500, 12), which means that there are 2500 samples for each lead.\n",
    "We know that the sampling frequency is _______ \n"
   ]
  }
 ],
 "metadata": {
  "kernelspec": {
   "display_name": "Python 3",
   "language": "python",
   "name": "python3"
  },
  "language_info": {
   "codemirror_mode": {
    "name": "ipython",
    "version": 3
   },
   "file_extension": ".py",
   "mimetype": "text/x-python",
   "name": "python",
   "nbconvert_exporter": "python",
   "pygments_lexer": "ipython3",
   "version": "3.12.0"
  }
 },
 "nbformat": 4,
 "nbformat_minor": 5
}
