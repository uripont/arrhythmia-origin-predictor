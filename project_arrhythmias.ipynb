{
 "cells": [
  {
   "cell_type": "markdown",
   "id": "ef60ef33",
   "metadata": {},
   "source": [
    "# An interpretable prediction system for the Site Of Origin (SOO) of Outflow Tract Ventricular Arrhythmias (OTVAs)\n",
    "\n",
    "## Introduction\n",
    "\n",
    "Outflow Tract Ventricular Arrhythmias (OTVAs) are premature ventricular beats. In structurally normal hearts, they often present characteristic ECG morphologies but can be challenging to manually localize precisely without invasive mapping.\n",
    "\n",
    "We can consider each patient **case** to generally consist of:\n",
    "- A 12-lead **ECG signal** segment (≈2.5 s)  \n",
    "- Basic **demographic data** (age, sex, height,...)\n",
    "- A (clinician-assigned) **label** indicating the arrhythmia's Site of Origin (SOO)\n",
    "\n",
    "We aim to build a system of models that can *learn* from this data and predict the **Site Of Origin (SOO)** of OTVAs. The goal is to be able to generalize to new patient cases, and have both 1) interpretability of the learned criteria used for classification and 2) a fast inference time per prediction.\n",
    "\n",
    "We will complete this broad task in two parts:\n",
    "\n",
    "1. **Part 1: Left vs. Right Outflow Tract**  \n",
    "   Classify each arrhythmia focus as coming from the Left Ventricular Outflow Tract (LVOT) or the Right Ventricular Outflow Tract (RVOT).\n",
    "\n",
    "2. **Part 2: Sub-regional Localization**  \n",
    "   On those beats classified as **LVOT** in Part 1, further discriminate between origins at the **Right Coronary Cusp (RCC)** and the **aortomitral commissure** (the mitral-aortic continuity), as assigned to our group D. This is in our case a sub-classification task, since the Right Coronary Cusp (RCC) is one of the three aortic cusps (alongside LCC and NCC) sitting in the left ventricular outflow tract; while the “commissure” in this context is the junction either between the RCC & LCC or the mitral-aortic continuity, being in both cases a region of the LVOT."
   ]
  }
 ],
 "metadata": {
  "language_info": {
   "name": "python"
  }
 },
 "nbformat": 4,
 "nbformat_minor": 5
}
