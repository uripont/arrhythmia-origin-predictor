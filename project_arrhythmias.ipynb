{
 "cells": [
  {
   "cell_type": "markdown",
   "id": "ef60ef33",
   "metadata": {},
   "source": [
    "# An interpretable prediction system for the Site Of Origin (SOO) of Outflow Tract Ventricular Arrhythmias (OTVAs)\n",
    "\n",
    "## 0. Starting point\n",
    "\n",
    "See the [README](README.md) for a general introduction to the project.\n",
    "\n",
    "### 0.1. Python development environment\n",
    "\n",
    "//TODO: set requirements.txt to install all notebook dependencies\n",
    "\n",
    "### 0.2. About the dataset\n",
    "\n",
    "We were provided with a dataset (...)\n",
    "\n",
    "//TODO: prepare it for reproducibility from the repo\n",
    "\n",
    "### 0.3. Patient cases\n",
    "\n",
    "## 1. Our approach\n",
    "\n",
    "## 2. Demographic data preprocessing\n",
    "\n",
    "## 3. ECG signal preprocessing\n",
    "\n",
    "## 4. Model A: Dimensionality reduction for ECG signals\n",
    "\n",
    "## 5. Interpreting Model A\n",
    "\n",
    "## 5. Preparing data for training for the two tasks\n",
    "\n",
    "## 6. Model B: Classification of the SOO\n",
    "\n",
    "## 7. Interpreting Model B\n",
    "\n",
    "## 8. Model C: Classification of the sub-regions\n",
    "\n",
    "## 9. Interpreting Model C\n",
    "\n",
    "## 10. Final model evaluation and exporting for inference\n"
   ]
  }
 ],
 "metadata": {
  "kernelspec": {
   "display_name": "Python 3",
   "language": "python",
   "name": "python3"
  },
  "language_info": {
   "name": "python",
   "version": "3.12.0"
  }
 },
 "nbformat": 4,
 "nbformat_minor": 5
}
